{
 "cells": [
  {
   "cell_type": "markdown",
   "metadata": {},
   "source": []
  },
  {
   "cell_type": "code",
   "execution_count": 1,
   "metadata": {},
   "outputs": [],
   "source": [
    "# Import the 'os' module to work with file system paths and directories.\n",
    "import os\n",
    "\n",
    "# Import 'cv2' from OpenCV for computer vision tasks and image processing.\n",
    "import cv2\n",
    "\n",
    "# Import 'tensorflow' for deep learning and neural network-based tasks.\n",
    "import tensorflow as tf\n",
    "\n",
    "# Import 'numpy' for numerical operations and array handling.\n",
    "import numpy as np\n",
    "\n",
    "# Import 'List' from the 'typing' module to specify the type of certain variables.\n",
    "from typing import List\n",
    "\n",
    "# Import 'pyplot' from 'matplotlib' for data visualization, particularly plotting graphs and images.\n",
    "from matplotlib import pyplot as plt\n",
    "\n",
    "# Import 'imageio' for reading and writing various image file formats.\n",
    "import imageio\n"
   ]
  },
  {
   "cell_type": "code",
   "execution_count": 2,
   "metadata": {},
   "outputs": [],
   "source": [
    "# List the available physical GPUs on the system.\n",
    "physical_devices = tf.config.list_physical_devices('GPU')\n",
    "\n",
    "# Attempt to set memory growth for the first available GPU.\n",
    "try:\n",
    "      # Enable memory growth for the GPU, which allocates memory on-demand, reducing initial memory consumption.\n",
    "      tf.config.experimental.set_memory_growth(physical_devices[0], True)\n",
    "except:\n",
    "      # In case of an exception (e.g., if no GPUs are available or an error occurs), handle it gracefully.\n",
    "      pass\n",
    "\n",
    "# This code snippet is used to configure TensorFlow to allocate GPU memory more efficiently.\n",
    "\n",
    "# - It lists the available physical GPUs on the system using 'tf.config.list_physical_devices'.\n",
    "\n",
    "# - The 'try' block attempts to set memory growth for the first available GPU using 'tf.config.experimental.set_memory_growth'.\n",
    "\n",
    "# - Setting 'memory growth' to 'True' allows TensorFlow to allocate GPU memory as needed, which can help avoid\n",
    "#   allocating all GPU memory upfront and can be beneficial when multiple GPU processes are running concurrently.\n",
    "\n",
    "# - The 'except' block catches any exceptions that may occur during the memory growth configuration and handles them gracefully.\n"
   ]
  },
  {
   "cell_type": "code",
   "execution_count": 3,
   "metadata": {},
   "outputs": [],
   "source": [
    "# Define a function 'load_video' that loads and processes a video file.\n",
    "def load_video(path: str) -> List[float]:\n",
    "      # Open the video file using OpenCV's VideoCapture.\n",
    "      cap = cv2.VideoCapture(path)\n",
    "\n",
    "      # Initialize an empty list to store video frames.\n",
    "      frames = []\n",
    "\n",
    "      # Iterate through all frames in the video.\n",
    "      for _ in range(int(cap.get(cv2.CAP_PROP_FRAME_COUNT))):\n",
    "            # Read the next frame from the video.\n",
    "            ret, frame = cap.read()\n",
    "\n",
    "            # Convert the frame to grayscale using TensorFlow.\n",
    "            frame = tf.image.rgb_to_grayscale(frame)\n",
    "\n",
    "            # Crop the frame to a specific region of interest (ROI).\n",
    "            # In this case, it's selecting a portion of the frame from (190, 80) to (236, 220).\n",
    "            frames.append(frame[190:236, 80:220, :])\n",
    "\n",
    "      # Release the video capture object to free up resources.\n",
    "      cap.release()\n",
    "\n",
    "      # Calculate the mean and standard deviation of the list of frames.\n",
    "      mean = tf.math.reduce_mean(frames)\n",
    "      std = tf.math.reduce_std(tf.cast(frames, tf.float32))\n",
    "\n",
    "      # Standardize the frames by subtracting the mean and dividing by the standard deviation.\n",
    "      return tf.cast((frames - mean), tf.float32) / std\n",
    "\n",
    "# This 'load_video' function reads a video file, converts frames to grayscale, crops a region of interest,\n",
    "# calculates the mean and standard deviation of the frames, and then standardizes the frames.\n"
   ]
  },
  {
   "cell_type": "code",
   "execution_count": 4,
   "metadata": {},
   "outputs": [],
   "source": [
    "# Define a list called \"vocab\" that contains characters for a custom vocabulary.\n",
    "# This vocabulary includes lowercase English letters, single-quote ('), exclamation mark (!),\n",
    "# question mark (?), digits from 1 to 9, and space.\n",
    "\n",
    "vocab = [x for x in \"abcdefghijklmnopqrstuvwxyz'?!123456789 \"]\n"
   ]
  },
  {
   "cell_type": "code",
   "execution_count": 5,
   "metadata": {},
   "outputs": [
    {
     "name": "stdout",
     "output_type": "stream",
     "text": [
      "The vocabulary is: ['', 'a', 'b', 'c', 'd', 'e', 'f', 'g', 'h', 'i', 'j', 'k', 'l', 'm', 'n', 'o', 'p', 'q', 'r', 's', 't', 'u', 'v', 'w', 'x', 'y', 'z', \"'\", '?', '!', '1', '2', '3', '4', '5', '6', '7', '8', '9', ' '] (size =40)\n"
     ]
    }
   ],
   "source": [
    "char_to_num = tf.keras.layers.StringLookup(vocabulary=vocab, oov_token=\"\")\n",
    "num_to_char = tf.keras.layers.StringLookup(\n",
    "      vocabulary=char_to_num.get_vocabulary(), oov_token=\"\", invert=True\n",
    ")\n",
    "\n",
    "print(\n",
    "      f\"The vocabulary is: {char_to_num.get_vocabulary()} \"\n",
    "      f\"(size ={char_to_num.vocabulary_size()})\"\n",
    ")"
   ]
  },
  {
   "cell_type": "code",
   "execution_count": 6,
   "metadata": {},
   "outputs": [
    {
     "data": {
      "text/plain": [
       "['',\n",
       " 'a',\n",
       " 'b',\n",
       " 'c',\n",
       " 'd',\n",
       " 'e',\n",
       " 'f',\n",
       " 'g',\n",
       " 'h',\n",
       " 'i',\n",
       " 'j',\n",
       " 'k',\n",
       " 'l',\n",
       " 'm',\n",
       " 'n',\n",
       " 'o',\n",
       " 'p',\n",
       " 'q',\n",
       " 'r',\n",
       " 's',\n",
       " 't',\n",
       " 'u',\n",
       " 'v',\n",
       " 'w',\n",
       " 'x',\n",
       " 'y',\n",
       " 'z',\n",
       " \"'\",\n",
       " '?',\n",
       " '!',\n",
       " '1',\n",
       " '2',\n",
       " '3',\n",
       " '4',\n",
       " '5',\n",
       " '6',\n",
       " '7',\n",
       " '8',\n",
       " '9',\n",
       " ' ']"
      ]
     },
     "execution_count": 6,
     "metadata": {},
     "output_type": "execute_result"
    }
   ],
   "source": [
    "char_to_num.get_vocabulary()"
   ]
  },
  {
   "cell_type": "code",
   "execution_count": 7,
   "metadata": {},
   "outputs": [],
   "source": [
    "def load_alignments(path: str) -> List[str]:\n",
    "      with open(path, 'r') as f:\n",
    "            lines = f.readlines()\n",
    "      tokens = []\n",
    "      for line in lines:\n",
    "            line = line.split()\n",
    "            if line[2] != 'sil': \n",
    "                  tokens = [*tokens,' ',line[2]]\n",
    "      return char_to_num(tf.reshape(tf.strings.unicode_split(tokens, input_encoding='UTF-8'), (-1)))[1:]"
   ]
  },
  {
   "cell_type": "code",
   "execution_count": 8,
   "metadata": {},
   "outputs": [],
   "source": [
    "def load_data(path: str): \n",
    "      path = bytes.decode(path.numpy())\n",
    "      #file_name = path.split('/')[-1].split('.')[0]\n",
    "      # File name splitting for windows\n",
    "      file_name = path.split('\\\\')[-1].split('.')[0]\n",
    "      video_path = os.path.join('data','s1',f'{file_name}.mpg')\n",
    "      alignment_path = os.path.join('data','alignments','s1',f'{file_name}.align')\n",
    "      frames = load_video(video_path) \n",
    "      alignments = load_alignments(alignment_path)\n",
    "      return frames, alignments"
   ]
  },
  {
   "cell_type": "code",
   "execution_count": 9,
   "metadata": {},
   "outputs": [],
   "source": [
    "test_path = '.\\\\data\\\\s1\\\\bbal6n.mpg'"
   ]
  },
  {
   "cell_type": "code",
   "execution_count": 10,
   "metadata": {},
   "outputs": [
    {
     "data": {
      "text/plain": [
       "'bbal6n'"
      ]
     },
     "execution_count": 10,
     "metadata": {},
     "output_type": "execute_result"
    }
   ],
   "source": [
    "tf.convert_to_tensor(test_path).numpy().decode('utf-8').split('\\\\')[-1].split('.')[0]"
   ]
  },
  {
   "cell_type": "code",
   "execution_count": 11,
   "metadata": {},
   "outputs": [],
   "source": [
    "frames, alignments = load_data(tf.convert_to_tensor(test_path))"
   ]
  },
  {
   "cell_type": "code",
   "execution_count": 12,
   "metadata": {},
   "outputs": [
    {
     "data": {
      "text/plain": [
       "<matplotlib.image.AxesImage at 0x233411bddd0>"
      ]
     },
     "execution_count": 12,
     "metadata": {},
     "output_type": "execute_result"
    },
    {
     "data": {
      "image/png": "[encoded data removed]",
      "text/plain": [
       "<Figure size 640x480 with 1 Axes>"
      ]
     },
     "metadata": {},
     "output_type": "display_data"
    }
   ],
   "source": [
    "plt.imshow(frames[40])"
   ]
  },
  {
   "cell_type": "code",
   "execution_count": 13,
   "metadata": {},
   "outputs": [
    {
     "data": {
      "text/plain": [
       "<tf.Tensor: shape=(21,), dtype=int64, numpy=\n",
       "array([ 2,  9, 14, 39,  2, 12, 21,  5, 39,  1, 20, 39, 12, 39, 19,  9, 24,\n",
       "       39, 14, 15, 23], dtype=int64)>"
      ]
     },
     "execution_count": 13,
     "metadata": {},
     "output_type": "execute_result"
    }
   ],
   "source": [
    "alignments"
   ]
  },
  {
   "cell_type": "code",
   "execution_count": 14,
   "metadata": {},
   "outputs": [
    {
     "data": {
      "text/plain": [
       "<tf.Tensor: shape=(), dtype=string, numpy=b'bin blue at l six now'>"
      ]
     },
     "execution_count": 14,
     "metadata": {},
     "output_type": "execute_result"
    }
   ],
   "source": [
    "tf.strings.reduce_join([bytes.decode(x) for x in num_to_char(alignments.numpy()).numpy()])"
   ]
  },
  {
   "cell_type": "code",
   "execution_count": 15,
   "metadata": {},
   "outputs": [],
   "source": [
    "def mappable_function(path:str) ->List[str]:\n",
    "      result = tf.py_function(load_data, [path], (tf.float32, tf.int64))\n",
    "      return result"
   ]
  },
  {
   "cell_type": "markdown",
   "metadata": {},
   "source": [
    "### 3"
   ]
  },
  {
   "cell_type": "code",
   "execution_count": 16,
   "metadata": {},
   "outputs": [],
   "source": [
    "data = tf.data.Dataset.list_files('./data/s1/*.mpg')\n",
    "data = data.shuffle(500, reshuffle_each_iteration=False)\n",
    "data = data.map(mappable_function)\n",
    "data = data.padded_batch(2, padded_shapes=([75,None,None,None],[40]))\n",
    "data = data.prefetch(tf.data.AUTOTUNE)\n",
    "# Added for split \n",
    "train = data.take(450)\n",
    "test = data.skip(450)"
   ]
  },
  {
   "cell_type": "code",
   "execution_count": 17,
   "metadata": {},
   "outputs": [
    {
     "data": {
      "text/plain": [
       "50"
      ]
     },
     "execution_count": 17,
     "metadata": {},
     "output_type": "execute_result"
    }
   ],
   "source": [
    "len(test)"
   ]
  },
  {
   "cell_type": "code",
   "execution_count": 18,
   "metadata": {},
   "outputs": [],
   "source": [
    "frames, alignments = data.as_numpy_iterator().next()"
   ]
  },
  {
   "cell_type": "code",
   "execution_count": 19,
   "metadata": {},
   "outputs": [
    {
     "data": {
      "text/plain": [
       "2"
      ]
     },
     "execution_count": 19,
     "metadata": {},
     "output_type": "execute_result"
    }
   ],
   "source": [
    "len(frames)"
   ]
  },
  {
   "cell_type": "code",
   "execution_count": 20,
   "metadata": {},
   "outputs": [],
   "source": [
    "sample = data.as_numpy_iterator()"
   ]
  },
  {
   "cell_type": "code",
   "execution_count": 21,
   "metadata": {},
   "outputs": [
    {
     "data": {
      "text/plain": [
       "array([[[[[1.3479717 ],\n",
       "          [1.3479717 ],\n",
       "          [1.310528  ],\n",
       "          ...,\n",
       "          [0.        ],\n",
       "          [0.1872183 ],\n",
       "          [0.11233097]],\n",
       "\n",
       "         [[1.3479717 ],\n",
       "          [1.3479717 ],\n",
       "          [1.310528  ],\n",
       "          ...,\n",
       "          [0.11233097],\n",
       "          [0.1872183 ],\n",
       "          [0.22466195]],\n",
       "\n",
       "         [[1.2730844 ],\n",
       "          [1.2730844 ],\n",
       "          [1.2730844 ],\n",
       "          ...,\n",
       "          [0.14977463],\n",
       "          [0.07488731],\n",
       "          [0.07488731]],\n",
       "\n",
       "         ...,\n",
       "\n",
       "         [[0.9360914 ],\n",
       "          [0.9360914 ],\n",
       "          [0.9360914 ],\n",
       "          ...,\n",
       "          [9.360914  ],\n",
       "          [9.323471  ],\n",
       "          [9.323471  ]],\n",
       "\n",
       "         [[0.8986478 ],\n",
       "          [0.8986478 ],\n",
       "          [0.8986478 ],\n",
       "          ...,\n",
       "          [9.323471  ],\n",
       "          [9.323471  ],\n",
       "          [9.323471  ]],\n",
       "\n",
       "         [[0.8986478 ],\n",
       "          [0.8986478 ],\n",
       "          [0.8986478 ],\n",
       "          ...,\n",
       "          [9.323471  ],\n",
       "          [9.323471  ],\n",
       "          [9.323471  ]]],\n",
       "\n",
       "\n",
       "        [[[1.2356406 ],\n",
       "          [1.2356406 ],\n",
       "          [1.2730844 ],\n",
       "          ...,\n",
       "          [9.473246  ],\n",
       "          [0.14977463],\n",
       "          [0.11233097]],\n",
       "\n",
       "         [[1.2356406 ],\n",
       "          [1.2356406 ],\n",
       "          [1.2730844 ],\n",
       "          ...,\n",
       "          [9.548133  ],\n",
       "          [0.22466195],\n",
       "          [0.2621056 ]],\n",
       "\n",
       "         [[1.2730844 ],\n",
       "          [1.2730844 ],\n",
       "          [1.2730844 ],\n",
       "          ...,\n",
       "          [0.11233097],\n",
       "          [0.07488731],\n",
       "          [0.07488731]],\n",
       "\n",
       "         ...,\n",
       "\n",
       "         [[0.9360914 ],\n",
       "          [0.9360914 ],\n",
       "          [0.9360914 ],\n",
       "          ...,\n",
       "          [9.323471  ],\n",
       "          [9.323471  ],\n",
       "          [9.323471  ]],\n",
       "\n",
       "         [[0.8986478 ],\n",
       "          [0.8986478 ],\n",
       "          [0.8986478 ],\n",
       "          ...,\n",
       "          [9.323471  ],\n",
       "          [9.323471  ],\n",
       "          [9.323471  ]],\n",
       "\n",
       "         [[0.8986478 ],\n",
       "          [0.8986478 ],\n",
       "          [0.8986478 ],\n",
       "          ...,\n",
       "          [9.323471  ],\n",
       "          [9.323471  ],\n",
       "          [9.323471  ]]],\n",
       "\n",
       "\n",
       "        [[[1.198197  ],\n",
       "          [1.198197  ],\n",
       "          [1.2730844 ],\n",
       "          ...,\n",
       "          [9.473246  ],\n",
       "          [0.07488731],\n",
       "          [0.11233097]],\n",
       "\n",
       "         [[1.198197  ],\n",
       "          [1.198197  ],\n",
       "          [1.2730844 ],\n",
       "          ...,\n",
       "          [0.03744366],\n",
       "          [0.11233097],\n",
       "          [0.1872183 ]],\n",
       "\n",
       "         [[1.310528  ],\n",
       "          [1.310528  ],\n",
       "          [1.310528  ],\n",
       "          ...,\n",
       "          [0.03744366],\n",
       "          [0.07488731],\n",
       "          [0.14977463]],\n",
       "\n",
       "         ...,\n",
       "\n",
       "         [[0.9360914 ],\n",
       "          [0.9360914 ],\n",
       "          [0.9360914 ],\n",
       "          ...,\n",
       "          [9.360914  ],\n",
       "          [9.360914  ],\n",
       "          [9.360914  ]],\n",
       "\n",
       "         [[0.8986478 ],\n",
       "          [0.8986478 ],\n",
       "          [0.8986478 ],\n",
       "          ...,\n",
       "          [9.323471  ],\n",
       "          [9.360914  ],\n",
       "          [9.360914  ]],\n",
       "\n",
       "         [[0.8986478 ],\n",
       "          [0.8986478 ],\n",
       "          [0.8986478 ],\n",
       "          ...,\n",
       "          [9.323471  ],\n",
       "          [9.360914  ],\n",
       "          [9.360914  ]]],\n",
       "\n",
       "\n",
       "        ...,\n",
       "\n",
       "\n",
       "        [[[1.3854153 ],\n",
       "          [1.3854153 ],\n",
       "          [1.3479717 ],\n",
       "          ...,\n",
       "          [9.510689  ],\n",
       "          [0.11233097],\n",
       "          [0.11233097]],\n",
       "\n",
       "         [[1.3479717 ],\n",
       "          [1.3479717 ],\n",
       "          [1.310528  ],\n",
       "          ...,\n",
       "          [9.473246  ],\n",
       "          [0.11233097],\n",
       "          [0.22466195]],\n",
       "\n",
       "         [[1.310528  ],\n",
       "          [1.2730844 ],\n",
       "          [1.2356406 ],\n",
       "          ...,\n",
       "          [0.11233097],\n",
       "          [0.11233097],\n",
       "          [0.11233097]],\n",
       "\n",
       "         ...,\n",
       "\n",
       "         [[0.8986478 ],\n",
       "          [0.8986478 ],\n",
       "          [0.8986478 ],\n",
       "          ...,\n",
       "          [9.398358  ],\n",
       "          [9.398358  ],\n",
       "          [9.398358  ]],\n",
       "\n",
       "         [[0.8986478 ],\n",
       "          [0.8986478 ],\n",
       "          [0.8986478 ],\n",
       "          ...,\n",
       "          [9.398358  ],\n",
       "          [9.398358  ],\n",
       "          [9.360914  ]],\n",
       "\n",
       "         [[0.8986478 ],\n",
       "          [0.8986478 ],\n",
       "          [0.8986478 ],\n",
       "          ...,\n",
       "          [9.398358  ],\n",
       "          [9.360914  ],\n",
       "          [9.360914  ]]],\n",
       "\n",
       "\n",
       "        [[[1.3854153 ],\n",
       "          [1.3854153 ],\n",
       "          [1.3479717 ],\n",
       "          ...,\n",
       "          [9.473246  ],\n",
       "          [0.07488731],\n",
       "          [0.07488731]],\n",
       "\n",
       "         [[1.3479717 ],\n",
       "          [1.3479717 ],\n",
       "          [1.310528  ],\n",
       "          ...,\n",
       "          [0.07488731],\n",
       "          [0.11233097],\n",
       "          [0.22466195]],\n",
       "\n",
       "         [[1.310528  ],\n",
       "          [1.2730844 ],\n",
       "          [1.310528  ],\n",
       "          ...,\n",
       "          [0.1872183 ],\n",
       "          [0.14977463],\n",
       "          [0.14977463]],\n",
       "\n",
       "         ...,\n",
       "\n",
       "         [[0.9735351 ],\n",
       "          [0.9735351 ],\n",
       "          [0.9360914 ],\n",
       "          ...,\n",
       "          [9.398358  ],\n",
       "          [9.398358  ],\n",
       "          [9.473246  ]],\n",
       "\n",
       "         [[0.9735351 ],\n",
       "          [0.9360914 ],\n",
       "          [0.9360914 ],\n",
       "          ...,\n",
       "          [9.398358  ],\n",
       "          [9.398358  ],\n",
       "          [9.360914  ]],\n",
       "\n",
       "         [[0.9360914 ],\n",
       "          [0.9360914 ],\n",
       "          [0.9360914 ],\n",
       "          ...,\n",
       "          [9.360914  ],\n",
       "          [9.360914  ],\n",
       "          [9.360914  ]]],\n",
       "\n",
       "\n",
       "        [[[1.3479717 ],\n",
       "          [1.3479717 ],\n",
       "          [1.3479717 ],\n",
       "          ...,\n",
       "          [9.510689  ],\n",
       "          [0.07488731],\n",
       "          [0.03744366]],\n",
       "\n",
       "         [[1.310528  ],\n",
       "          [1.310528  ],\n",
       "          [1.310528  ],\n",
       "          ...,\n",
       "          [9.548133  ],\n",
       "          [0.07488731],\n",
       "          [0.07488731]],\n",
       "\n",
       "         [[1.3479717 ],\n",
       "          [1.310528  ],\n",
       "          [1.2730844 ],\n",
       "          ...,\n",
       "          [0.14977463],\n",
       "          [0.11233097],\n",
       "          [0.11233097]],\n",
       "\n",
       "         ...,\n",
       "\n",
       "         [[0.9735351 ],\n",
       "          [0.9735351 ],\n",
       "          [0.9360914 ],\n",
       "          ...,\n",
       "          [9.398358  ],\n",
       "          [9.398358  ],\n",
       "          [9.473246  ]],\n",
       "\n",
       "         [[0.9735351 ],\n",
       "          [0.9360914 ],\n",
       "          [0.9360914 ],\n",
       "          ...,\n",
       "          [9.360914  ],\n",
       "          [9.398358  ],\n",
       "          [9.360914  ]],\n",
       "\n",
       "         [[0.9360914 ],\n",
       "          [0.9360914 ],\n",
       "          [0.9360914 ],\n",
       "          ...,\n",
       "          [9.323471  ],\n",
       "          [9.360914  ],\n",
       "          [9.360914  ]]]],\n",
       "\n",
       "\n",
       "\n",
       "       [[[[1.4061315 ],\n",
       "          [1.4061315 ],\n",
       "          [1.4061315 ],\n",
       "          ...,\n",
       "          [9.686684  ],\n",
       "          [9.569506  ],\n",
       "          [9.335151  ]],\n",
       "\n",
       "         [[1.4061315 ],\n",
       "          [1.4061315 ],\n",
       "          [1.4061315 ],\n",
       "          ...,\n",
       "          [9.022677  ],\n",
       "          [9.139854  ],\n",
       "          [9.413269  ]],\n",
       "\n",
       "         [[1.2498946 ],\n",
       "          [1.2498946 ],\n",
       "          [1.2498946 ],\n",
       "          ...,\n",
       "          [9.452329  ],\n",
       "          [9.725742  ],\n",
       "          [9.686684  ]],\n",
       "\n",
       "         ...,\n",
       "\n",
       "         [[0.8983618 ],\n",
       "          [0.8983618 ],\n",
       "          [0.8983618 ],\n",
       "          ...,\n",
       "          [9.803862  ],\n",
       "          [9.803862  ],\n",
       "          [9.803862  ]],\n",
       "\n",
       "         [[0.8983618 ],\n",
       "          [0.8983618 ],\n",
       "          [0.8983618 ],\n",
       "          ...,\n",
       "          [9.764802  ],\n",
       "          [9.764802  ],\n",
       "          [9.764802  ]],\n",
       "\n",
       "         [[0.8983618 ],\n",
       "          [0.8983618 ],\n",
       "          [0.8983618 ],\n",
       "          ...,\n",
       "          [9.764802  ],\n",
       "          [9.764802  ],\n",
       "          [9.764802  ]]],\n",
       "\n",
       "\n",
       "        [[[1.2498946 ],\n",
       "          [1.2498946 ],\n",
       "          [1.2889539 ],\n",
       "          ...,\n",
       "          [9.84292   ],\n",
       "          [9.569506  ],\n",
       "          [9.37421   ]],\n",
       "\n",
       "         [[1.2498946 ],\n",
       "          [1.2498946 ],\n",
       "          [1.2889539 ],\n",
       "          ...,\n",
       "          [8.944559  ],\n",
       "          [9.37421   ],\n",
       "          [9.452329  ]],\n",
       "\n",
       "         [[1.2108355 ],\n",
       "          [1.2108355 ],\n",
       "          [1.2108355 ],\n",
       "          ...,\n",
       "          [9.413269  ],\n",
       "          [9.764802  ],\n",
       "          [9.725742  ]],\n",
       "\n",
       "         ...,\n",
       "\n",
       "         [[0.8983618 ],\n",
       "          [0.8983618 ],\n",
       "          [0.8983618 ],\n",
       "          ...,\n",
       "          [9.764802  ],\n",
       "          [9.725742  ],\n",
       "          [9.725742  ]],\n",
       "\n",
       "         [[0.8593026 ],\n",
       "          [0.8593026 ],\n",
       "          [0.8593026 ],\n",
       "          ...,\n",
       "          [9.686684  ],\n",
       "          [9.647624  ],\n",
       "          [9.647624  ]],\n",
       "\n",
       "         [[0.8593026 ],\n",
       "          [0.8593026 ],\n",
       "          [0.8593026 ],\n",
       "          ...,\n",
       "          [9.686684  ],\n",
       "          [9.647624  ],\n",
       "          [9.647624  ]]],\n",
       "\n",
       "\n",
       "        [[[1.2889539 ],\n",
       "          [1.2889539 ],\n",
       "          [1.2498946 ],\n",
       "          ...,\n",
       "          [9.764802  ],\n",
       "          [9.530447  ],\n",
       "          [9.335151  ]],\n",
       "\n",
       "         [[1.2889539 ],\n",
       "          [1.2889539 ],\n",
       "          [1.2498946 ],\n",
       "          ...,\n",
       "          [8.749263  ],\n",
       "          [9.37421   ],\n",
       "          [9.491387  ]],\n",
       "\n",
       "         [[1.2498946 ],\n",
       "          [1.2108355 ],\n",
       "          [1.2108355 ],\n",
       "          ...,\n",
       "          [9.452329  ],\n",
       "          [9.803862  ],\n",
       "          [9.764802  ]],\n",
       "\n",
       "         ...,\n",
       "\n",
       "         [[0.8983618 ],\n",
       "          [0.8983618 ],\n",
       "          [0.8983618 ],\n",
       "          ...,\n",
       "          [9.764802  ],\n",
       "          [9.764802  ],\n",
       "          [9.764802  ]],\n",
       "\n",
       "         [[0.8593026 ],\n",
       "          [0.8593026 ],\n",
       "          [0.8593026 ],\n",
       "          ...,\n",
       "          [9.686684  ],\n",
       "          [9.647624  ],\n",
       "          [9.647624  ]],\n",
       "\n",
       "         [[0.8593026 ],\n",
       "          [0.8593026 ],\n",
       "          [0.8593026 ],\n",
       "          ...,\n",
       "          [9.686684  ],\n",
       "          [9.647624  ],\n",
       "          [9.647624  ]]],\n",
       "\n",
       "\n",
       "        ...,\n",
       "\n",
       "\n",
       "        [[[1.2889539 ],\n",
       "          [1.2889539 ],\n",
       "          [1.2889539 ],\n",
       "          ...,\n",
       "          [9.178914  ],\n",
       "          [9.569506  ],\n",
       "          [9.608565  ]],\n",
       "\n",
       "         [[1.2889539 ],\n",
       "          [1.2889539 ],\n",
       "          [1.2889539 ],\n",
       "          ...,\n",
       "          [8.710203  ],\n",
       "          [9.686684  ],\n",
       "          [9.686684  ]],\n",
       "\n",
       "         [[1.2498946 ],\n",
       "          [1.2498946 ],\n",
       "          [1.2498946 ],\n",
       "          ...,\n",
       "          [9.725742  ],\n",
       "          [9.921039  ],\n",
       "          [9.921039  ]],\n",
       "\n",
       "         ...,\n",
       "\n",
       "         [[0.8983618 ],\n",
       "          [0.8983618 ],\n",
       "          [0.8983618 ],\n",
       "          ...,\n",
       "          [9.803862  ],\n",
       "          [9.84292   ],\n",
       "          [9.84292   ]],\n",
       "\n",
       "         [[0.8983618 ],\n",
       "          [0.8983618 ],\n",
       "          [0.8983618 ],\n",
       "          ...,\n",
       "          [9.803862  ],\n",
       "          [9.764802  ],\n",
       "          [9.725742  ]],\n",
       "\n",
       "         [[0.8983618 ],\n",
       "          [0.8983618 ],\n",
       "          [0.8593026 ],\n",
       "          ...,\n",
       "          [9.803862  ],\n",
       "          [9.725742  ],\n",
       "          [9.725742  ]]],\n",
       "\n",
       "\n",
       "        [[[1.3670722 ],\n",
       "          [1.3670722 ],\n",
       "          [1.4061315 ],\n",
       "          ...,\n",
       "          [9.178914  ],\n",
       "          [9.530447  ],\n",
       "          [9.686684  ]],\n",
       "\n",
       "         [[1.3670722 ],\n",
       "          [1.3670722 ],\n",
       "          [1.4061315 ],\n",
       "          ...,\n",
       "          [8.86644   ],\n",
       "          [9.608565  ],\n",
       "          [9.608565  ]],\n",
       "\n",
       "         [[1.2498946 ],\n",
       "          [1.2498946 ],\n",
       "          [1.2498946 ],\n",
       "          ...,\n",
       "          [9.686684  ],\n",
       "          [9.921039  ],\n",
       "          [9.921039  ]],\n",
       "\n",
       "         ...,\n",
       "\n",
       "         [[0.8983618 ],\n",
       "          [0.8983618 ],\n",
       "          [0.8983618 ],\n",
       "          ...,\n",
       "          [9.764802  ],\n",
       "          [9.803862  ],\n",
       "          [9.803862  ]],\n",
       "\n",
       "         [[0.8983618 ],\n",
       "          [0.8983618 ],\n",
       "          [0.8983618 ],\n",
       "          ...,\n",
       "          [9.764802  ],\n",
       "          [9.764802  ],\n",
       "          [9.686684  ]],\n",
       "\n",
       "         [[0.8983618 ],\n",
       "          [0.8983618 ],\n",
       "          [0.8593026 ],\n",
       "          ...,\n",
       "          [9.764802  ],\n",
       "          [9.686684  ],\n",
       "          [9.686684  ]]],\n",
       "\n",
       "\n",
       "        [[[1.2889539 ],\n",
       "          [1.2889539 ],\n",
       "          [1.2889539 ],\n",
       "          ...,\n",
       "          [9.100796  ],\n",
       "          [9.608565  ],\n",
       "          [9.608565  ]],\n",
       "\n",
       "         [[1.2889539 ],\n",
       "          [1.2889539 ],\n",
       "          [1.2889539 ],\n",
       "          ...,\n",
       "          [8.827381  ],\n",
       "          [9.686684  ],\n",
       "          [9.686684  ]],\n",
       "\n",
       "         [[1.2498946 ],\n",
       "          [1.2498946 ],\n",
       "          [1.2498946 ],\n",
       "          ...,\n",
       "          [9.647624  ],\n",
       "          [9.921039  ],\n",
       "          [9.921039  ]],\n",
       "\n",
       "         ...,\n",
       "\n",
       "         [[0.93742096],\n",
       "          [0.8983618 ],\n",
       "          [0.8983618 ],\n",
       "          ...,\n",
       "          [9.764802  ],\n",
       "          [9.803862  ],\n",
       "          [9.803862  ]],\n",
       "\n",
       "         [[0.93742096],\n",
       "          [0.8983618 ],\n",
       "          [0.8983618 ],\n",
       "          ...,\n",
       "          [9.764802  ],\n",
       "          [9.764802  ],\n",
       "          [9.686684  ]],\n",
       "\n",
       "         [[0.93742096],\n",
       "          [0.8983618 ],\n",
       "          [0.8983618 ],\n",
       "          ...,\n",
       "          [9.764802  ],\n",
       "          [9.686684  ],\n",
       "          [9.686684  ]]]]], dtype=float32)"
      ]
     },
     "execution_count": 21,
     "metadata": {},
     "output_type": "execute_result"
    }
   ],
   "source": [
    "val = sample.next(); val[0]"
   ]
  },
  {
   "cell_type": "code",
   "execution_count": 22,
   "metadata": {},
   "outputs": [
    {
     "name": "stderr",
     "output_type": "stream",
     "text": [
      "Lossy conversion from float32 to uint8. Range [0.0, 9.54813289642334]. Convert image to uint8 prior to saving to suppress this warning.\n",
      "Lossy conversion from float32 to uint8. Range [0.0, 9.54813289642334]. Convert image to uint8 prior to saving to suppress this warning.\n",
      "Lossy conversion from float32 to uint8. Range [0.0, 9.54813289642334]. Convert image to uint8 prior to saving to suppress this warning.\n",
      "Lossy conversion from float32 to uint8. Range [0.0, 9.54813289642334]. Convert image to uint8 prior to saving to suppress this warning.\n",
      "Lossy conversion from float32 to uint8. Range [0.0, 9.54813289642334]. Convert image to uint8 prior to saving to suppress this warning.\n",
      "Lossy conversion from float32 to uint8. Range [0.0, 9.54813289642334]. Convert image to uint8 prior to saving to suppress this warning.\n",
      "Lossy conversion from float32 to uint8. Range [0.0, 9.54813289642334]. Convert image to uint8 prior to saving to suppress this warning.\n"
     ]
    },
    {
     "name": "stderr",
     "output_type": "stream",
     "text": [
      "Lossy conversion from float32 to uint8. Range [0.0, 9.54813289642334]. Convert image to uint8 prior to saving to suppress this warning.\n",
      "Lossy conversion from float32 to uint8. Range [0.0, 9.54813289642334]. Convert image to uint8 prior to saving to suppress this warning.\n",
      "Lossy conversion from float32 to uint8. Range [0.0, 9.54813289642334]. Convert image to uint8 prior to saving to suppress this warning.\n",
      "Lossy conversion from float32 to uint8. Range [0.0, 9.54813289642334]. Convert image to uint8 prior to saving to suppress this warning.\n",
      "Lossy conversion from float32 to uint8. Range [0.0, 9.54813289642334]. Convert image to uint8 prior to saving to suppress this warning.\n",
      "Lossy conversion from float32 to uint8. Range [0.0, 9.54813289642334]. Convert image to uint8 prior to saving to suppress this warning.\n",
      "Lossy conversion from float32 to uint8. Range [0.0, 9.54813289642334]. Convert image to uint8 prior to saving to suppress this warning.\n",
      "Lossy conversion from float32 to uint8. Range [0.0, 9.54813289642334]. Convert image to uint8 prior to saving to suppress this warning.\n",
      "Lossy conversion from float32 to uint8. Range [0.0, 9.54813289642334]. Convert image to uint8 prior to saving to suppress this warning.\n",
      "Lossy conversion from float32 to uint8. Range [0.0, 9.54813289642334]. Convert image to uint8 prior to saving to suppress this warning.\n",
      "Lossy conversion from float32 to uint8. Range [0.0, 9.54813289642334]. Convert image to uint8 prior to saving to suppress this warning.\n",
      "Lossy conversion from float32 to uint8. Range [0.0, 9.54813289642334]. Convert image to uint8 prior to saving to suppress this warning.\n",
      "Lossy conversion from float32 to uint8. Range [0.0, 9.54813289642334]. Convert image to uint8 prior to saving to suppress this warning.\n",
      "Lossy conversion from float32 to uint8. Range [0.0, 9.54813289642334]. Convert image to uint8 prior to saving to suppress this warning.\n",
      "Lossy conversion from float32 to uint8. Range [0.0, 9.54813289642334]. Convert image to uint8 prior to saving to suppress this warning.\n",
      "Lossy conversion from float32 to uint8. Range [0.0, 9.54813289642334]. Convert image to uint8 prior to saving to suppress this warning.\n",
      "Lossy conversion from float32 to uint8. Range [0.0, 9.54813289642334]. Convert image to uint8 prior to saving to suppress this warning.\n",
      "Lossy conversion from float32 to uint8. Range [0.0, 9.54813289642334]. Convert image to uint8 prior to saving to suppress this warning.\n",
      "Lossy conversion from float32 to uint8. Range [0.0, 9.54813289642334]. Convert image to uint8 prior to saving to suppress this warning.\n",
      "Lossy conversion from float32 to uint8. Range [0.0, 9.54813289642334]. Convert image to uint8 prior to saving to suppress this warning.\n",
      "Lossy conversion from float32 to uint8. Range [0.0, 9.54813289642334]. Convert image to uint8 prior to saving to suppress this warning.\n",
      "Lossy conversion from float32 to uint8. Range [0.0, 9.54813289642334]. Convert image to uint8 prior to saving to suppress this warning.\n",
      "Lossy conversion from float32 to uint8. Range [0.0, 9.54813289642334]. Convert image to uint8 prior to saving to suppress this warning.\n",
      "Lossy conversion from float32 to uint8. Range [0.0, 9.54813289642334]. Convert image to uint8 prior to saving to suppress this warning.\n",
      "Lossy conversion from float32 to uint8. Range [0.0, 9.54813289642334]. Convert image to uint8 prior to saving to suppress this warning.\n",
      "Lossy conversion from float32 to uint8. Range [0.0, 9.54813289642334]. Convert image to uint8 prior to saving to suppress this warning.\n",
      "Lossy conversion from float32 to uint8. Range [0.0, 9.54813289642334]. Convert image to uint8 prior to saving to suppress this warning.\n",
      "Lossy conversion from float32 to uint8. Range [0.0, 9.54813289642334]. Convert image to uint8 prior to saving to suppress this warning.\n",
      "Lossy conversion from float32 to uint8. Range [0.0, 9.54813289642334]. Convert image to uint8 prior to saving to suppress this warning.\n",
      "Lossy conversion from float32 to uint8. Range [0.0, 9.54813289642334]. Convert image to uint8 prior to saving to suppress this warning.\n",
      "Lossy conversion from float32 to uint8. Range [0.0, 9.54813289642334]. Convert image to uint8 prior to saving to suppress this warning.\n",
      "Lossy conversion from float32 to uint8. Range [0.0, 9.54813289642334]. Convert image to uint8 prior to saving to suppress this warning.\n",
      "Lossy conversion from float32 to uint8. Range [0.0, 9.54813289642334]. Convert image to uint8 prior to saving to suppress this warning.\n",
      "Lossy conversion from float32 to uint8. Range [0.0, 9.54813289642334]. Convert image to uint8 prior to saving to suppress this warning.\n",
      "Lossy conversion from float32 to uint8. Range [0.0, 9.54813289642334]. Convert image to uint8 prior to saving to suppress this warning.\n",
      "Lossy conversion from float32 to uint8. Range [0.0, 9.54813289642334]. Convert image to uint8 prior to saving to suppress this warning.\n",
      "Lossy conversion from float32 to uint8. Range [0.0, 9.54813289642334]. Convert image to uint8 prior to saving to suppress this warning.\n",
      "Lossy conversion from float32 to uint8. Range [0.0, 9.54813289642334]. Convert image to uint8 prior to saving to suppress this warning.\n",
      "Lossy conversion from float32 to uint8. Range [0.0, 9.54813289642334]. Convert image to uint8 prior to saving to suppress this warning.\n",
      "Lossy conversion from float32 to uint8. Range [0.0, 9.54813289642334]. Convert image to uint8 prior to saving to suppress this warning.\n",
      "Lossy conversion from float32 to uint8. Range [0.0, 9.54813289642334]. Convert image to uint8 prior to saving to suppress this warning.\n",
      "Lossy conversion from float32 to uint8. Range [0.0, 9.54813289642334]. Convert image to uint8 prior to saving to suppress this warning.\n",
      "Lossy conversion from float32 to uint8. Range [0.0, 9.54813289642334]. Convert image to uint8 prior to saving to suppress this warning.\n",
      "Lossy conversion from float32 to uint8. Range [0.0, 9.54813289642334]. Convert image to uint8 prior to saving to suppress this warning.\n",
      "Lossy conversion from float32 to uint8. Range [0.0, 9.54813289642334]. Convert image to uint8 prior to saving to suppress this warning.\n",
      "Lossy conversion from float32 to uint8. Range [0.0, 9.54813289642334]. Convert image to uint8 prior to saving to suppress this warning.\n",
      "Lossy conversion from float32 to uint8. Range [0.0, 9.54813289642334]. Convert image to uint8 prior to saving to suppress this warning.\n",
      "Lossy conversion from float32 to uint8. Range [0.0, 9.54813289642334]. Convert image to uint8 prior to saving to suppress this warning.\n",
      "Lossy conversion from float32 to uint8. Range [0.0, 9.54813289642334]. Convert image to uint8 prior to saving to suppress this warning.\n",
      "Lossy conversion from float32 to uint8. Range [0.0, 9.54813289642334]. Convert image to uint8 prior to saving to suppress this warning.\n",
      "Lossy conversion from float32 to uint8. Range [0.0, 9.54813289642334]. Convert image to uint8 prior to saving to suppress this warning.\n",
      "Lossy conversion from float32 to uint8. Range [0.0, 9.54813289642334]. Convert image to uint8 prior to saving to suppress this warning.\n",
      "Lossy conversion from float32 to uint8. Range [0.0, 9.54813289642334]. Convert image to uint8 prior to saving to suppress this warning.\n",
      "Lossy conversion from float32 to uint8. Range [0.0, 9.54813289642334]. Convert image to uint8 prior to saving to suppress this warning.\n",
      "Lossy conversion from float32 to uint8. Range [0.0, 9.54813289642334]. Convert image to uint8 prior to saving to suppress this warning.\n",
      "Lossy conversion from float32 to uint8. Range [0.0, 9.54813289642334]. Convert image to uint8 prior to saving to suppress this warning.\n",
      "Lossy conversion from float32 to uint8. Range [0.0, 9.54813289642334]. Convert image to uint8 prior to saving to suppress this warning.\n",
      "Lossy conversion from float32 to uint8. Range [0.0, 9.54813289642334]. Convert image to uint8 prior to saving to suppress this warning.\n",
      "Lossy conversion from float32 to uint8. Range [0.0, 9.54813289642334]. Convert image to uint8 prior to saving to suppress this warning.\n",
      "Lossy conversion from float32 to uint8. Range [0.0, 9.54813289642334]. Convert image to uint8 prior to saving to suppress this warning.\n",
      "Lossy conversion from float32 to uint8. Range [0.0, 9.54813289642334]. Convert image to uint8 prior to saving to suppress this warning.\n",
      "Lossy conversion from float32 to uint8. Range [0.0, 9.54813289642334]. Convert image to uint8 prior to saving to suppress this warning.\n",
      "Lossy conversion from float32 to uint8. Range [0.0, 9.54813289642334]. Convert image to uint8 prior to saving to suppress this warning.\n",
      "Lossy conversion from float32 to uint8. Range [0.0, 9.54813289642334]. Convert image to uint8 prior to saving to suppress this warning.\n",
      "Lossy conversion from float32 to uint8. Range [0.0, 9.54813289642334]. Convert image to uint8 prior to saving to suppress this warning.\n",
      "Lossy conversion from float32 to uint8. Range [0.0, 9.54813289642334]. Convert image to uint8 prior to saving to suppress this warning.\n",
      "Lossy conversion from float32 to uint8. Range [0.0, 9.54813289642334]. Convert image to uint8 prior to saving to suppress this warning.\n",
      "Lossy conversion from float32 to uint8. Range [0.0, 9.54813289642334]. Convert image to uint8 prior to saving to suppress this warning.\n"
     ]
    }
   ],
   "source": [
    "imageio.mimsave('./animation.gif', val[0][0], fps=10)"
   ]
  },
  {
   "cell_type": "markdown",
   "metadata": {},
   "source": []
  },
  {
   "cell_type": "code",
   "execution_count": 23,
   "metadata": {},
   "outputs": [
    {
     "data": {
      "text/plain": [
       "<matplotlib.image.AxesImage at 0x233410dfbd0>"
      ]
     },
     "execution_count": 23,
     "metadata": {},
     "output_type": "execute_result"
    },
    {
     "data": {
      "image/png": "[encoded data removed]",
      "text/plain": [
       "<Figure size 640x480 with 1 Axes>"
      ]
     },
     "metadata": {},
     "output_type": "display_data"
    }
   ],
   "source": [
    "plt.imshow(val[0][0][30])"
   ]
  },
  {
   "cell_type": "code",
   "execution_count": 24,
   "metadata": {},
   "outputs": [
    {
     "data": {
      "text/plain": [
       "<tf.Tensor: shape=(), dtype=string, numpy=b'lay green in l six please'>"
      ]
     },
     "execution_count": 24,
     "metadata": {},
     "output_type": "execute_result"
    }
   ],
   "source": [
    "tf.strings.reduce_join([num_to_char(word) for word in val[1][0]])"
   ]
  },
  {
   "cell_type": "code",
   "execution_count": 25,
   "metadata": {},
   "outputs": [],
   "source": [
    "from tensorflow.keras.models import Sequential \n",
    "from tensorflow.keras.layers import Conv3D, LSTM, Dense, Dropout, Bidirectional, MaxPool3D, Activation, Reshape, SpatialDropout3D, BatchNormalization, TimeDistributed, Flatten\n",
    "from tensorflow.keras.optimizers import Adam\n",
    "from tensorflow.keras.callbacks import ModelCheckpoint, LearningRateScheduler"
   ]
  },
  {
   "cell_type": "code",
   "execution_count": 26,
   "metadata": {},
   "outputs": [
    {
     "data": {
      "text/plain": [
       "(75, 46, 140, 1)"
      ]
     },
     "execution_count": 26,
     "metadata": {},
     "output_type": "execute_result"
    }
   ],
   "source": [
    "data.as_numpy_iterator().next()[0][0].shape"
   ]
  },
  {
   "cell_type": "code",
   "execution_count": 27,
   "metadata": {},
   "outputs": [],
   "source": [
    "model = Sequential()\n",
    "model.add(Conv3D(128, 3, input_shape=(75,46,140,1), padding='same'))\n",
    "model.add(Activation('relu'))\n",
    "model.add(MaxPool3D((1,2,2)))\n",
    "\n",
    "model.add(Conv3D(256, 3, padding='same'))\n",
    "model.add(Activation('relu'))\n",
    "model.add(MaxPool3D((1,2,2)))\n",
    "\n",
    "model.add(Conv3D(75, 3, padding='same'))\n",
    "model.add(Activation('relu'))\n",
    "model.add(MaxPool3D((1,2,2)))\n",
    "\n",
    "model.add(TimeDistributed(Flatten()))\n",
    "\n",
    "model.add(Bidirectional(LSTM(128, kernel_initializer='Orthogonal', return_sequences=True)))\n",
    "model.add(Dropout(.5))\n",
    "\n",
    "model.add(Bidirectional(LSTM(128, kernel_initializer='Orthogonal', return_sequences=True)))\n",
    "model.add(Dropout(.5))\n",
    "\n",
    "model.add(Dense(char_to_num.vocabulary_size()+1, kernel_initializer='he_normal', activation='softmax'))"
   ]
  },
  {
   "cell_type": "code",
   "execution_count": 28,
   "metadata": {},
   "outputs": [
    {
     "name": "stdout",
     "output_type": "stream",
     "text": [
      "Model: \"sequential\"\n",
      "_________________________________________________________________\n",
      " Layer (type)                Output Shape              Param #   \n",
      "=================================================================\n",
      " conv3d (Conv3D)             (None, 75, 46, 140, 128)  3584      \n",
      "                                                                 \n",
      " activation (Activation)     (None, 75, 46, 140, 128)  0         \n",
      "                                                                 \n",
      " max_pooling3d (MaxPooling3D  (None, 75, 23, 70, 128)  0         \n",
      " )                                                               \n",
      "                                                                 \n",
      " conv3d_1 (Conv3D)           (None, 75, 23, 70, 256)   884992    \n",
      "                                                                 \n",
      " activation_1 (Activation)   (None, 75, 23, 70, 256)   0         \n",
      "                                                                 \n",
      " max_pooling3d_1 (MaxPooling  (None, 75, 11, 35, 256)  0         \n",
      " 3D)                                                             \n",
      "                                                                 \n",
      " conv3d_2 (Conv3D)           (None, 75, 11, 35, 75)    518475    \n",
      "                                                                 \n",
      " activation_2 (Activation)   (None, 75, 11, 35, 75)    0         \n",
      "                                                                 \n",
      " max_pooling3d_2 (MaxPooling  (None, 75, 5, 17, 75)    0         \n",
      " 3D)                                                             \n",
      "                                                                 \n",
      " time_distributed (TimeDistr  (None, 75, 6375)         0         \n",
      " ibuted)                                                         \n",
      "                                                                 \n",
      " bidirectional (Bidirectiona  (None, 75, 256)          6660096   \n",
      " l)                                                              \n",
      "                                                                 \n",
      " dropout (Dropout)           (None, 75, 256)           0         \n",
      "                                                                 \n",
      " bidirectional_1 (Bidirectio  (None, 75, 256)          394240    \n",
      " nal)                                                            \n",
      "                                                                 \n",
      " dropout_1 (Dropout)         (None, 75, 256)           0         \n",
      "                                                                 \n",
      " dense (Dense)               (None, 75, 41)            10537     \n",
      "                                                                 \n",
      "=================================================================\n",
      "Total params: 8,471,924\n",
      "Trainable params: 8,471,924\n",
      "Non-trainable params: 0\n",
      "_________________________________________________________________\n"
     ]
    }
   ],
   "source": [
    "model.summary()\n"
   ]
  },
  {
   "cell_type": "code",
   "execution_count": 29,
   "metadata": {},
   "outputs": [
    {
     "name": "stdout",
     "output_type": "stream",
     "text": [
      "1/1 [==============================] - 14s 14s/step\n"
     ]
    }
   ],
   "source": [
    "yhat = model.predict(val[0])"
   ]
  },
  {
   "cell_type": "code",
   "execution_count": 30,
   "metadata": {},
   "outputs": [
    {
     "data": {
      "text/plain": [
       "<tf.Tensor: shape=(), dtype=string, numpy=b'jjjjj6666666666666666666666666666666666666666666666666666666666666666666666'>"
      ]
     },
     "execution_count": 30,
     "metadata": {},
     "output_type": "execute_result"
    }
   ],
   "source": [
    "tf.strings.reduce_join([num_to_char(x) for x in tf.argmax(yhat[0],axis=1)])"
   ]
  },
  {
   "cell_type": "markdown",
   "metadata": {},
   "source": [
    "### 4"
   ]
  },
  {
   "cell_type": "code",
   "execution_count": 31,
   "metadata": {},
   "outputs": [],
   "source": [
    "def scheduler(epoch, lr):\n",
    "      if epoch < 30:\n",
    "            return lr\n",
    "      else:\n",
    "          return lr * tf.math.exp(-0.1)"
   ]
  },
  {
   "cell_type": "code",
   "execution_count": 32,
   "metadata": {},
   "outputs": [],
   "source": [
    "def CTCLoss(y_true, y_pred):\n",
    "      batch_len = tf.cast(tf.shape(y_true)[0], dtype=\"int64\")\n",
    "      input_length = tf.cast(tf.shape(y_pred)[1], dtype=\"int64\")\n",
    "      label_length = tf.cast(tf.shape(y_true)[1], dtype=\"int64\")\n",
    "\n",
    "      input_length = input_length * tf.ones(shape=(batch_len, 1), dtype=\"int64\")\n",
    "      label_length = label_length * tf.ones(shape=(batch_len, 1), dtype=\"int64\")\n",
    "\n",
    "      loss = tf.keras.backend.ctc_batch_cost(y_true, y_pred, input_length, label_length)\n",
    "      return loss"
   ]
  },
  {
   "cell_type": "code",
   "execution_count": 33,
   "metadata": {},
   "outputs": [],
   "source": [
    "class ProduceExample(tf.keras.callbacks.Callback): \n",
    "      def __init__(self, dataset) -> None: \n",
    "            self.dataset = dataset.as_numpy_iterator()\n",
    "      def on_epoch_end(self, epoch, logs=None) -> None:\n",
    "            data = self.dataset.next()\n",
    "            yhat = self.model.predict(data[0])\n",
    "            decoded = tf.keras.backend.ctc_decode(yhat, [75,75], greedy=False)[0][0].numpy()\n",
    "            for x in range(len(yhat)):           \n",
    "                  print('Original:', tf.strings.reduce_join(num_to_char(data[1][x])).numpy().decode('utf-8'))\n",
    "                  print('Prediction:', tf.strings.reduce_join(num_to_char(decoded[x])).numpy().decode('utf-8'))\n",
    "                  print('~'*100)"
   ]
  },
  {
   "cell_type": "code",
   "execution_count": 34,
   "metadata": {},
   "outputs": [],
   "source": [
    "model.compile(optimizer=tf.keras.optimizers.legacy.Adam(learning_rate=0.0001), loss=CTCLoss)"
   ]
  },
  {
   "cell_type": "code",
   "execution_count": 35,
   "metadata": {},
   "outputs": [],
   "source": [
    "checkpoint_callback = ModelCheckpoint(os.path.join('models','checkpoint'), monitor='loss', save_weights_only=True) "
   ]
  },
  {
   "cell_type": "code",
   "execution_count": 36,
   "metadata": {},
   "outputs": [],
   "source": [
    "schedule_callback = LearningRateScheduler(scheduler)\n"
   ]
  },
  {
   "cell_type": "code",
   "execution_count": 37,
   "metadata": {},
   "outputs": [],
   "source": [
    "example_callback = ProduceExample(test)"
   ]
  },
  {
   "cell_type": "code",
   "execution_count": 38,
   "metadata": {},
   "outputs": [
    {
     "data": {
      "text/plain": [
       "<tensorflow.python.checkpoint.checkpoint.CheckpointLoadStatus at 0x23346cf8e50>"
      ]
     },
     "execution_count": 38,
     "metadata": {},
     "output_type": "execute_result"
    }
   ],
   "source": [
    "model.load_weights('models/checkpoint')"
   ]
  },
  {
   "cell_type": "code",
   "execution_count": 39,
   "metadata": {},
   "outputs": [],
   "source": [
    "test_data = test.as_numpy_iterator()"
   ]
  },
  {
   "cell_type": "code",
   "execution_count": 40,
   "metadata": {},
   "outputs": [],
   "source": [
    "sample = test_data.next()"
   ]
  },
  {
   "cell_type": "code",
   "execution_count": 41,
   "metadata": {},
   "outputs": [
    {
     "name": "stdout",
     "output_type": "stream",
     "text": [
      "1/1 [==============================] - 20s 20s/step\n"
     ]
    }
   ],
   "source": [
    "yhat = model.predict(sample[0])"
   ]
  },
  {
   "cell_type": "code",
   "execution_count": 42,
   "metadata": {},
   "outputs": [
    {
     "name": "stdout",
     "output_type": "stream",
     "text": [
      "~~~~~~~~~~~~~~~~~~~~~~~~~~~~~~~~~~~~~~~~~~~~~~~~~~~~~~~~~~~~~~~~~~~~~~~~~~~~~~~~~~~~~~~~~~~~~~~~~~~~ REAL TEXT\n"
     ]
    },
    {
     "data": {
      "text/plain": [
       "[<tf.Tensor: shape=(), dtype=string, numpy=b'place green at q nine again'>,\n",
       " <tf.Tensor: shape=(), dtype=string, numpy=b'bin green at h three again'>]"
      ]
     },
     "execution_count": 42,
     "metadata": {},
     "output_type": "execute_result"
    }
   ],
   "source": [
    "print('~'*100, 'REAL TEXT')\n",
    "[tf.strings.reduce_join([num_to_char(word) for word in sentence]) for sentence in sample[1]]"
   ]
  },
  {
   "cell_type": "code",
   "execution_count": 43,
   "metadata": {},
   "outputs": [],
   "source": [
    "decoded = tf.keras.backend.ctc_decode(yhat, input_length=[75,75], greedy=True)[0][0].numpy()"
   ]
  },
  {
   "cell_type": "code",
   "execution_count": 44,
   "metadata": {},
   "outputs": [
    {
     "name": "stdout",
     "output_type": "stream",
     "text": [
      "~~~~~~~~~~~~~~~~~~~~~~~~~~~~~~~~~~~~~~~~~~~~~~~~~~~~~~~~~~~~~~~~~~~~~~~~~~~~~~~~~~~~~~~~~~~~~~~~~~~~ PREDICTIONS\n"
     ]
    },
    {
     "data": {
      "text/plain": [
       "[<tf.Tensor: shape=(), dtype=string, numpy=b'place green at q nine again'>,\n",
       " <tf.Tensor: shape=(), dtype=string, numpy=b'bin green at h three again'>]"
      ]
     },
     "execution_count": 44,
     "metadata": {},
     "output_type": "execute_result"
    }
   ],
   "source": [
    "print('~'*100, 'PREDICTIONS')\n",
    "[tf.strings.reduce_join([num_to_char(word) for word in sentence]) for sentence in decoded]\n"
   ]
  },
  {
   "cell_type": "markdown",
   "metadata": {},
   "source": [
    "5"
   ]
  },
  {
   "cell_type": "code",
   "execution_count": 45,
   "metadata": {},
   "outputs": [],
   "source": [
    "sample = load_data(tf.convert_to_tensor('.\\\\data\\\\s1\\\\bbbm2p.mpg'))"
   ]
  },
  {
   "cell_type": "code",
   "execution_count": 46,
   "metadata": {},
   "outputs": [
    {
     "name": "stdout",
     "output_type": "stream",
     "text": [
      "~~~~~~~~~~~~~~~~~~~~~~~~~~~~~~~~~~~~~~~~~~~~~~~~~~~~~~~~~~~~~~~~~~~~~~~~~~~~~~~~~~~~~~~~~~~~~~~~~~~~ REAL TEXT\n"
     ]
    },
    {
     "data": {
      "text/plain": [
       "[<tf.Tensor: shape=(), dtype=string, numpy=b'bin blue by m two please'>]"
      ]
     },
     "execution_count": 46,
     "metadata": {},
     "output_type": "execute_result"
    }
   ],
   "source": [
    "print('~'*100, 'REAL TEXT')\n",
    "[tf.strings.reduce_join([num_to_char(word) for word in sentence]) for sentence in [sample[1]]]"
   ]
  },
  {
   "cell_type": "code",
   "execution_count": 47,
   "metadata": {},
   "outputs": [
    {
     "name": "stdout",
     "output_type": "stream",
     "text": [
      "1/1 [==============================] - 4s 4s/step\n"
     ]
    }
   ],
   "source": [
    "yhat = model.predict(tf.expand_dims(sample[0],axis=0))"
   ]
  },
  {
   "cell_type": "code",
   "execution_count": 48,
   "metadata": {},
   "outputs": [],
   "source": [
    "decoded = tf.keras.backend.ctc_decode(yhat, input_length=[75], greedy=True)[0][0].numpy()"
   ]
  },
  {
   "cell_type": "code",
   "execution_count": 49,
   "metadata": {},
   "outputs": [
    {
     "name": "stdout",
     "output_type": "stream",
     "text": [
      "~~~~~~~~~~~~~~~~~~~~~~~~~~~~~~~~~~~~~~~~~~~~~~~~~~~~~~~~~~~~~~~~~~~~~~~~~~~~~~~~~~~~~~~~~~~~~~~~~~~~ PREDICTIONS\n"
     ]
    },
    {
     "data": {
      "text/plain": [
       "[<tf.Tensor: shape=(), dtype=string, numpy=b'bin blue by m two please'>]"
      ]
     },
     "execution_count": 49,
     "metadata": {},
     "output_type": "execute_result"
    }
   ],
   "source": [
    "print('~'*100, 'PREDICTIONS')\n",
    "[tf.strings.reduce_join([num_to_char(word) for word in sentence]) for sentence in decoded]"
   ]
  }
 ],
 "metadata": {
  "kernelspec": {
   "display_name": "Python 3",
   "language": "python",
   "name": "python3"
  },
  "language_info": {
   "codemirror_mode": {
    "name": "ipython",
    "version": 3
   },
   "file_extension": ".py",
   "mimetype": "text/x-python",
   "name": "python",
   "nbconvert_exporter": "python",
   "pygments_lexer": "ipython3",
   "version": "3.11.1"
  },
  "orig_nbformat": 4
 },
 "nbformat": 4,
 "nbformat_minor": 2
}
